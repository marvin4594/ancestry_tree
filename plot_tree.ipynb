{
 "cells": [
  {
   "cell_type": "code",
   "execution_count": 13,
   "id": "af21f714-6d03-4419-9827-70bc37ab44d4",
   "metadata": {},
   "outputs": [
    {
     "name": "stdout",
     "output_type": "stream",
     "text": [
      "195 122\n"
     ]
    }
   ],
   "source": [
    "from functions import *\n",
    "from billtrees import *\n",
    "from kidsinlaw import *\n",
    "from siblings import *\n",
    "from anc import *\n",
    "from indadj import *\n",
    "            \n",
    "people = get_people('Blank_Stammbaum.ged')\n",
    "zeroperson=people[2]\n",
    "\n",
    "pre_indaji(people,zeroperson)\n",
    "mypeople = get_mypeople(zeroperson)\n",
    "print(len(people),len(mypeople))\n",
    "set_desc_spouse(people,zeroperson)\n",
    "set_zpsn_siblings(people,zeroperson,'c')\n",
    "set_ancestors(people,zeroperson)\n",
    "set_anc_sib(people,zeroperson)\n",
    "post_indaji(people,zeroperson)\n"
   ]
  },
  {
   "cell_type": "code",
   "execution_count": 14,
   "id": "e17448f5-00d8-45ee-b62c-d60d2873ebb6",
   "metadata": {},
   "outputs": [
    {
     "name": "stdout",
     "output_type": "stream",
     "text": [
      "Person NOT FOUND ../Portraits/1893_Magdalene_Sörensen.png\n"
     ]
    }
   ],
   "source": [
    "set_picfiles(people)\n",
    "\n",
    "minpiclevel,minlvlpic,maxlvlpic = piclevels(people)"
   ]
  },
  {
   "cell_type": "code",
   "execution_count": 15,
   "id": "c1ad590d-7e44-42bf-a540-31ce31178853",
   "metadata": {},
   "outputs": [],
   "source": [
    "line_width = 0.015\n",
    "font_size = 0.12\n",
    "margin_y = 0.60\n",
    "ppmm = 12     # pixels per mm     (300 dpi = 11.8 ppmm)\n",
    "\n",
    "box_x = 0.8\n",
    "box_y_small = 3*font_size + 2*line_width\n",
    "box_y = box_x + box_y_small\n",
    "\n",
    "outp = 'pdf'\n",
    "\n",
    "Dx, Dy = realign(people,box_x,box_y,box_y_small,margin_y,minpiclevel,minlvlpic,maxlvlpic)\n",
    "\n",
    "plottree(people,zeroperson,Dx,Dy,ppmm,box_x,box_y,box_y_small,line_width,font_size,outp)"
   ]
  },
  {
   "cell_type": "code",
   "execution_count": 16,
   "id": "cde8d2ba-a844-456b-97a7-f2cd2a524a48",
   "metadata": {},
   "outputs": [
    {
     "name": "stdout",
     "output_type": "stream",
     "text": [
      "Angelika Albrecht None 132\n"
     ]
    }
   ],
   "source": [
    "for psn in people:\n",
    "    if (psn.name[0:4]=='Ange'): print(psn.name,psn.yob,psn.ix)"
   ]
  },
  {
   "cell_type": "code",
   "execution_count": null,
   "id": "3124fb1f-f033-4d88-b948-0b970fb28114",
   "metadata": {},
   "outputs": [],
   "source": []
  },
  {
   "cell_type": "code",
   "execution_count": null,
   "id": "e2664510-7dd6-4c4e-8c47-1d527691556f",
   "metadata": {},
   "outputs": [],
   "source": []
  },
  {
   "cell_type": "code",
   "execution_count": null,
   "id": "466405b5-9cfe-42e1-a2f2-ab0e93a95330",
   "metadata": {},
   "outputs": [],
   "source": []
  }
 ],
 "metadata": {
  "kernelspec": {
   "display_name": "Python 3 (ipykernel)",
   "language": "python",
   "name": "python3"
  },
  "language_info": {
   "codemirror_mode": {
    "name": "ipython",
    "version": 3
   },
   "file_extension": ".py",
   "mimetype": "text/x-python",
   "name": "python",
   "nbconvert_exporter": "python",
   "pygments_lexer": "ipython3",
   "version": "3.10.6"
  }
 },
 "nbformat": 4,
 "nbformat_minor": 5
}
